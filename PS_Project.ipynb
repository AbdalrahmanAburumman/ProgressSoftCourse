{
  "nbformat": 4,
  "nbformat_minor": 0,
  "metadata": {
    "colab": {
      "provenance": [],
      "toc_visible": true
    },
    "kernelspec": {
      "name": "python3",
      "display_name": "Python 3"
    },
    "language_info": {
      "name": "python"
    },
    "accelerator": "GPU",
    "gpuClass": "standard"
  },
  "cells": [
    {
      "cell_type": "code",
      "execution_count": null,
      "metadata": {
        "id": "IzSXUBOYiP_O"
      },
      "outputs": [],
      "source": [
        "import tensorflow as tf\n",
        "from tensorflow.keras import datasets, layers, models\n",
        "from tensorflow.keras.layers import LeakyReLU\n",
        "import numpy as np\n",
        "import matplotlib.pyplot as plt\n",
        "from tensorflow.keras.callbacks import ModelCheckpoint\n",
        "from sklearn.metrics import confusion_matrix"
      ]
    },
    {
      "cell_type": "code",
      "source": [
        "(train_images, train_labels), (test_images, test_labels) = datasets.cifar10.load_data()"
      ],
      "metadata": {
        "id": "CYbxy-b3iZtS"
      },
      "execution_count": null,
      "outputs": []
    },
    {
      "cell_type": "code",
      "source": [
        "train_images, test_images = train_images / 255.0, test_images / 255.0\n",
        "train_labels, test_labels = tf.keras.utils.to_categorical(train_labels), tf.keras.utils.to_categorical(test_labels)"
      ],
      "metadata": {
        "id": "yZ_UK095idVo"
      },
      "execution_count": null,
      "outputs": []
    },
    {
      "cell_type": "code",
      "source": [
        "model = models.Sequential()\n",
        "model.add(layers.Conv2D(32, (3, 3), activation='LeakyReLU', input_shape=(32, 32, 3)))\n",
        "model.add(layers.MaxPooling2D((2, 2)))\n",
        "model.add(layers.Conv2D(64, (3, 3), activation='LeakyReLU'))\n",
        "model.add(LeakyReLU(alpha=0.1))\n",
        "model.add(layers.MaxPooling2D((2, 2)))\n",
        "model.add(layers.Conv2D(128, (3, 3), activation='LeakyReLU'))\n",
        "model.add(layers.Flatten())\n",
        "model.add(layers.Dense(64, activation='LeakyReLU'))\n",
        "model.add(layers.Dropout(0.4))\n",
        "model.add(LeakyReLU(alpha=0.1))\n",
        "model.add(layers.Dense(32, activation='LeakyReLU'))\n",
        "model.add(layers.Dropout(0.4))\n",
        "model.add(LeakyReLU(alpha=0.1))\n",
        "model.add(layers.Dense(10, activation='softmax'))"
      ],
      "metadata": {
        "id": "SHScXmQWigkO"
      },
      "execution_count": null,
      "outputs": []
    },
    {
      "cell_type": "code",
      "source": [
        "model.compile(optimizer=tf.keras.optimizers.Adam(0.0001),\n",
        "              loss='categorical_crossentropy',\n",
        "              metrics=['accuracy'])\n"
      ],
      "metadata": {
        "id": "0XHh_UD5iuae"
      },
      "execution_count": null,
      "outputs": []
    },
    {
      "cell_type": "code",
      "source": [
        "checkpoint_callback = ModelCheckpoint('best_model.h5', save_best_only=True,\n",
        "                                       monitor='val_accuracy', mode='max')"
      ],
      "metadata": {
        "id": "Mq9aL4yUix9L"
      },
      "execution_count": null,
      "outputs": []
    },
    {
      "cell_type": "code",
      "source": [
        "history = model.fit(train_images, train_labels, epochs=100, \n",
        "                    validation_data=(test_images, test_labels), \n",
        "                    batch_size=64, callbacks=[checkpoint_callback])\n",
        "\n"
      ],
      "metadata": {
        "colab": {
          "base_uri": "https://localhost:8080/"
        },
        "id": "2iZhbjKyi0dy",
        "outputId": "bf10f266-a89b-4b96-ae19-ade47029c450"
      },
      "execution_count": null,
      "outputs": [
        {
          "output_type": "stream",
          "name": "stdout",
          "text": [
            "Epoch 1/100\n",
            "782/782 [==============================] - 10s 7ms/step - loss: 2.1097 - accuracy: 0.2067 - val_loss: 1.8067 - val_accuracy: 0.3676\n",
            "Epoch 2/100\n",
            "782/782 [==============================] - 5s 7ms/step - loss: 1.8337 - accuracy: 0.3182 - val_loss: 1.5703 - val_accuracy: 0.4330\n",
            "Epoch 3/100\n",
            "782/782 [==============================] - 5s 6ms/step - loss: 1.6902 - accuracy: 0.3764 - val_loss: 1.4864 - val_accuracy: 0.4770\n",
            "Epoch 4/100\n",
            "782/782 [==============================] - 5s 7ms/step - loss: 1.6068 - accuracy: 0.4114 - val_loss: 1.4344 - val_accuracy: 0.4967\n",
            "Epoch 5/100\n",
            "782/782 [==============================] - 5s 6ms/step - loss: 1.5555 - accuracy: 0.4341 - val_loss: 1.3407 - val_accuracy: 0.5244\n",
            "Epoch 6/100\n",
            "782/782 [==============================] - 5s 6ms/step - loss: 1.5096 - accuracy: 0.4537 - val_loss: 1.3299 - val_accuracy: 0.5321\n",
            "Epoch 7/100\n",
            "782/782 [==============================] - 7s 9ms/step - loss: 1.4655 - accuracy: 0.4690 - val_loss: 1.2812 - val_accuracy: 0.5497\n",
            "Epoch 8/100\n",
            "782/782 [==============================] - 6s 8ms/step - loss: 1.4310 - accuracy: 0.4890 - val_loss: 1.2728 - val_accuracy: 0.5540\n",
            "Epoch 9/100\n",
            "782/782 [==============================] - 6s 8ms/step - loss: 1.3976 - accuracy: 0.5016 - val_loss: 1.2215 - val_accuracy: 0.5710\n",
            "Epoch 10/100\n",
            "782/782 [==============================] - 5s 6ms/step - loss: 1.3674 - accuracy: 0.5141 - val_loss: 1.1970 - val_accuracy: 0.5850\n",
            "Epoch 11/100\n",
            "782/782 [==============================] - 5s 7ms/step - loss: 1.3397 - accuracy: 0.5294 - val_loss: 1.1748 - val_accuracy: 0.5953\n",
            "Epoch 12/100\n",
            "782/782 [==============================] - 5s 6ms/step - loss: 1.3116 - accuracy: 0.5409 - val_loss: 1.1405 - val_accuracy: 0.6037\n",
            "Epoch 13/100\n",
            "782/782 [==============================] - 5s 7ms/step - loss: 1.2958 - accuracy: 0.5456 - val_loss: 1.1444 - val_accuracy: 0.6083\n",
            "Epoch 14/100\n",
            "782/782 [==============================] - 5s 6ms/step - loss: 1.2735 - accuracy: 0.5535 - val_loss: 1.1086 - val_accuracy: 0.6139\n",
            "Epoch 15/100\n",
            "782/782 [==============================] - 5s 6ms/step - loss: 1.2482 - accuracy: 0.5705 - val_loss: 1.1370 - val_accuracy: 0.6058\n",
            "Epoch 16/100\n",
            "782/782 [==============================] - 5s 6ms/step - loss: 1.2297 - accuracy: 0.5745 - val_loss: 1.0844 - val_accuracy: 0.6214\n",
            "Epoch 17/100\n",
            "782/782 [==============================] - 5s 6ms/step - loss: 1.2100 - accuracy: 0.5833 - val_loss: 1.0785 - val_accuracy: 0.6238\n",
            "Epoch 18/100\n",
            "782/782 [==============================] - 5s 7ms/step - loss: 1.1942 - accuracy: 0.5865 - val_loss: 1.0554 - val_accuracy: 0.6349\n",
            "Epoch 19/100\n",
            "782/782 [==============================] - 5s 6ms/step - loss: 1.1775 - accuracy: 0.5920 - val_loss: 1.0381 - val_accuracy: 0.6385\n",
            "Epoch 20/100\n",
            "782/782 [==============================] - 5s 6ms/step - loss: 1.1560 - accuracy: 0.6014 - val_loss: 1.0232 - val_accuracy: 0.6442\n",
            "Epoch 21/100\n",
            "782/782 [==============================] - 5s 7ms/step - loss: 1.1415 - accuracy: 0.6065 - val_loss: 1.0119 - val_accuracy: 0.6447\n",
            "Epoch 22/100\n",
            "782/782 [==============================] - 5s 6ms/step - loss: 1.1292 - accuracy: 0.6140 - val_loss: 0.9962 - val_accuracy: 0.6498\n",
            "Epoch 23/100\n",
            "782/782 [==============================] - 6s 7ms/step - loss: 1.1098 - accuracy: 0.6208 - val_loss: 0.9937 - val_accuracy: 0.6552\n",
            "Epoch 24/100\n",
            "782/782 [==============================] - 5s 6ms/step - loss: 1.0991 - accuracy: 0.6267 - val_loss: 0.9831 - val_accuracy: 0.6584\n",
            "Epoch 25/100\n",
            "782/782 [==============================] - 5s 7ms/step - loss: 1.0798 - accuracy: 0.6305 - val_loss: 0.9832 - val_accuracy: 0.6606\n",
            "Epoch 26/100\n",
            "782/782 [==============================] - 5s 6ms/step - loss: 1.0731 - accuracy: 0.6362 - val_loss: 0.9669 - val_accuracy: 0.6653\n",
            "Epoch 27/100\n",
            "782/782 [==============================] - 5s 7ms/step - loss: 1.0599 - accuracy: 0.6397 - val_loss: 0.9511 - val_accuracy: 0.6702\n",
            "Epoch 28/100\n",
            "782/782 [==============================] - 5s 7ms/step - loss: 1.0430 - accuracy: 0.6464 - val_loss: 0.9781 - val_accuracy: 0.6612\n",
            "Epoch 29/100\n",
            "782/782 [==============================] - 5s 6ms/step - loss: 1.0328 - accuracy: 0.6500 - val_loss: 0.9443 - val_accuracy: 0.6741\n",
            "Epoch 30/100\n",
            "782/782 [==============================] - 6s 7ms/step - loss: 1.0181 - accuracy: 0.6551 - val_loss: 0.9296 - val_accuracy: 0.6796\n",
            "Epoch 31/100\n",
            "782/782 [==============================] - 5s 6ms/step - loss: 1.0040 - accuracy: 0.6594 - val_loss: 0.9231 - val_accuracy: 0.6809\n",
            "Epoch 32/100\n",
            "782/782 [==============================] - 5s 6ms/step - loss: 0.9991 - accuracy: 0.6612 - val_loss: 0.9318 - val_accuracy: 0.6836\n",
            "Epoch 33/100\n",
            "782/782 [==============================] - 5s 6ms/step - loss: 0.9852 - accuracy: 0.6692 - val_loss: 0.9307 - val_accuracy: 0.6783\n",
            "Epoch 34/100\n",
            "782/782 [==============================] - 5s 6ms/step - loss: 0.9692 - accuracy: 0.6729 - val_loss: 0.9098 - val_accuracy: 0.6872\n",
            "Epoch 35/100\n",
            "782/782 [==============================] - 5s 7ms/step - loss: 0.9623 - accuracy: 0.6748 - val_loss: 0.8878 - val_accuracy: 0.6941\n",
            "Epoch 36/100\n",
            "782/782 [==============================] - 5s 6ms/step - loss: 0.9538 - accuracy: 0.6767 - val_loss: 0.8909 - val_accuracy: 0.6940\n",
            "Epoch 37/100\n",
            "782/782 [==============================] - 5s 7ms/step - loss: 0.9409 - accuracy: 0.6815 - val_loss: 0.8835 - val_accuracy: 0.6980\n",
            "Epoch 38/100\n",
            "782/782 [==============================] - 5s 6ms/step - loss: 0.9333 - accuracy: 0.6845 - val_loss: 0.8791 - val_accuracy: 0.7001\n",
            "Epoch 39/100\n",
            "782/782 [==============================] - 5s 6ms/step - loss: 0.9211 - accuracy: 0.6888 - val_loss: 0.8772 - val_accuracy: 0.7024\n",
            "Epoch 40/100\n",
            "782/782 [==============================] - 5s 7ms/step - loss: 0.9123 - accuracy: 0.6917 - val_loss: 0.8679 - val_accuracy: 0.7040\n",
            "Epoch 41/100\n",
            "782/782 [==============================] - 5s 6ms/step - loss: 0.9045 - accuracy: 0.6951 - val_loss: 0.8762 - val_accuracy: 0.7057\n",
            "Epoch 42/100\n",
            "782/782 [==============================] - 5s 6ms/step - loss: 0.8943 - accuracy: 0.6979 - val_loss: 0.8932 - val_accuracy: 0.6976\n",
            "Epoch 43/100\n",
            "782/782 [==============================] - 5s 6ms/step - loss: 0.8827 - accuracy: 0.7039 - val_loss: 0.8735 - val_accuracy: 0.7050\n",
            "Epoch 44/100\n",
            "782/782 [==============================] - 5s 6ms/step - loss: 0.8746 - accuracy: 0.7047 - val_loss: 0.8527 - val_accuracy: 0.7117\n",
            "Epoch 45/100\n",
            "782/782 [==============================] - 5s 7ms/step - loss: 0.8664 - accuracy: 0.7087 - val_loss: 0.8535 - val_accuracy: 0.7128\n",
            "Epoch 46/100\n",
            "782/782 [==============================] - 5s 6ms/step - loss: 0.8581 - accuracy: 0.7114 - val_loss: 0.8586 - val_accuracy: 0.7071\n",
            "Epoch 47/100\n",
            "782/782 [==============================] - 5s 7ms/step - loss: 0.8467 - accuracy: 0.7166 - val_loss: 0.8482 - val_accuracy: 0.7129\n",
            "Epoch 48/100\n",
            "782/782 [==============================] - 5s 6ms/step - loss: 0.8416 - accuracy: 0.7179 - val_loss: 0.8512 - val_accuracy: 0.7124\n",
            "Epoch 49/100\n",
            "782/782 [==============================] - 5s 6ms/step - loss: 0.8332 - accuracy: 0.7218 - val_loss: 0.8503 - val_accuracy: 0.7151\n",
            "Epoch 50/100\n",
            "782/782 [==============================] - 5s 7ms/step - loss: 0.8232 - accuracy: 0.7251 - val_loss: 0.8632 - val_accuracy: 0.7104\n",
            "Epoch 51/100\n",
            "782/782 [==============================] - 5s 6ms/step - loss: 0.8131 - accuracy: 0.7282 - val_loss: 0.8501 - val_accuracy: 0.7171\n",
            "Epoch 52/100\n",
            "782/782 [==============================] - 5s 7ms/step - loss: 0.8053 - accuracy: 0.7292 - val_loss: 0.8346 - val_accuracy: 0.7204\n",
            "Epoch 53/100\n",
            "782/782 [==============================] - 5s 6ms/step - loss: 0.7982 - accuracy: 0.7339 - val_loss: 0.8364 - val_accuracy: 0.7206\n",
            "Epoch 54/100\n",
            "782/782 [==============================] - 5s 6ms/step - loss: 0.7963 - accuracy: 0.7311 - val_loss: 0.8448 - val_accuracy: 0.7146\n",
            "Epoch 55/100\n",
            "782/782 [==============================] - 5s 7ms/step - loss: 0.7891 - accuracy: 0.7367 - val_loss: 0.8398 - val_accuracy: 0.7201\n",
            "Epoch 56/100\n",
            "782/782 [==============================] - 5s 6ms/step - loss: 0.7817 - accuracy: 0.7365 - val_loss: 0.8205 - val_accuracy: 0.7274\n",
            "Epoch 57/100\n",
            "782/782 [==============================] - 5s 7ms/step - loss: 0.7751 - accuracy: 0.7392 - val_loss: 0.8322 - val_accuracy: 0.7257\n",
            "Epoch 58/100\n",
            "782/782 [==============================] - 5s 6ms/step - loss: 0.7713 - accuracy: 0.7432 - val_loss: 0.8325 - val_accuracy: 0.7231\n",
            "Epoch 59/100\n",
            "782/782 [==============================] - 5s 6ms/step - loss: 0.7517 - accuracy: 0.7488 - val_loss: 0.8500 - val_accuracy: 0.7174\n",
            "Epoch 60/100\n",
            "782/782 [==============================] - 5s 7ms/step - loss: 0.7567 - accuracy: 0.7468 - val_loss: 0.8139 - val_accuracy: 0.7290\n",
            "Epoch 61/100\n",
            "782/782 [==============================] - 5s 6ms/step - loss: 0.7489 - accuracy: 0.7505 - val_loss: 0.8392 - val_accuracy: 0.7229\n",
            "Epoch 62/100\n",
            "782/782 [==============================] - 6s 7ms/step - loss: 0.7381 - accuracy: 0.7511 - val_loss: 0.8278 - val_accuracy: 0.7292\n",
            "Epoch 63/100\n",
            "782/782 [==============================] - 8s 10ms/step - loss: 0.7311 - accuracy: 0.7543 - val_loss: 0.8460 - val_accuracy: 0.7208\n",
            "Epoch 64/100\n",
            "782/782 [==============================] - 6s 7ms/step - loss: 0.7276 - accuracy: 0.7580 - val_loss: 0.8291 - val_accuracy: 0.7287\n",
            "Epoch 65/100\n",
            "782/782 [==============================] - 5s 6ms/step - loss: 0.7192 - accuracy: 0.7585 - val_loss: 0.8332 - val_accuracy: 0.7277\n",
            "Epoch 66/100\n",
            "782/782 [==============================] - 5s 7ms/step - loss: 0.7086 - accuracy: 0.7626 - val_loss: 0.8192 - val_accuracy: 0.7318\n",
            "Epoch 67/100\n",
            "782/782 [==============================] - 5s 7ms/step - loss: 0.7081 - accuracy: 0.7620 - val_loss: 0.8246 - val_accuracy: 0.7294\n",
            "Epoch 68/100\n",
            "782/782 [==============================] - 5s 6ms/step - loss: 0.7007 - accuracy: 0.7657 - val_loss: 0.8110 - val_accuracy: 0.7342\n",
            "Epoch 69/100\n",
            "782/782 [==============================] - 5s 7ms/step - loss: 0.6975 - accuracy: 0.7663 - val_loss: 0.8153 - val_accuracy: 0.7355\n",
            "Epoch 70/100\n",
            "782/782 [==============================] - 5s 6ms/step - loss: 0.6895 - accuracy: 0.7687 - val_loss: 0.8171 - val_accuracy: 0.7305\n",
            "Epoch 71/100\n",
            "782/782 [==============================] - 5s 7ms/step - loss: 0.6852 - accuracy: 0.7686 - val_loss: 0.8372 - val_accuracy: 0.7300\n",
            "Epoch 72/100\n",
            "782/782 [==============================] - 5s 6ms/step - loss: 0.6757 - accuracy: 0.7729 - val_loss: 0.8167 - val_accuracy: 0.7323\n",
            "Epoch 73/100\n",
            "782/782 [==============================] - 5s 6ms/step - loss: 0.6675 - accuracy: 0.7748 - val_loss: 0.8233 - val_accuracy: 0.7315\n",
            "Epoch 74/100\n",
            "782/782 [==============================] - 5s 7ms/step - loss: 0.6653 - accuracy: 0.7767 - val_loss: 0.8476 - val_accuracy: 0.7245\n",
            "Epoch 75/100\n",
            "782/782 [==============================] - 5s 6ms/step - loss: 0.6580 - accuracy: 0.7770 - val_loss: 0.8231 - val_accuracy: 0.7344\n",
            "Epoch 76/100\n",
            "782/782 [==============================] - 5s 7ms/step - loss: 0.6547 - accuracy: 0.7778 - val_loss: 0.8342 - val_accuracy: 0.7341\n",
            "Epoch 77/100\n",
            "782/782 [==============================] - 5s 6ms/step - loss: 0.6475 - accuracy: 0.7831 - val_loss: 0.8356 - val_accuracy: 0.7332\n",
            "Epoch 78/100\n",
            "782/782 [==============================] - 6s 7ms/step - loss: 0.6477 - accuracy: 0.7818 - val_loss: 0.8315 - val_accuracy: 0.7320\n",
            "Epoch 79/100\n",
            "782/782 [==============================] - 5s 6ms/step - loss: 0.6339 - accuracy: 0.7848 - val_loss: 0.8321 - val_accuracy: 0.7346\n",
            "Epoch 80/100\n",
            "782/782 [==============================] - 5s 6ms/step - loss: 0.6299 - accuracy: 0.7862 - val_loss: 0.8254 - val_accuracy: 0.7344\n",
            "Epoch 81/100\n",
            "782/782 [==============================] - 5s 7ms/step - loss: 0.6251 - accuracy: 0.7900 - val_loss: 0.8729 - val_accuracy: 0.7230\n",
            "Epoch 82/100\n",
            "782/782 [==============================] - 5s 6ms/step - loss: 0.6270 - accuracy: 0.7881 - val_loss: 0.8333 - val_accuracy: 0.7317\n",
            "Epoch 83/100\n",
            "782/782 [==============================] - 5s 7ms/step - loss: 0.6138 - accuracy: 0.7940 - val_loss: 0.8275 - val_accuracy: 0.7328\n",
            "Epoch 84/100\n",
            "782/782 [==============================] - 5s 6ms/step - loss: 0.6095 - accuracy: 0.7936 - val_loss: 0.8343 - val_accuracy: 0.7356\n",
            "Epoch 85/100\n",
            "782/782 [==============================] - 5s 6ms/step - loss: 0.6041 - accuracy: 0.7963 - val_loss: 0.8324 - val_accuracy: 0.7367\n",
            "Epoch 86/100\n",
            "782/782 [==============================] - 6s 7ms/step - loss: 0.5988 - accuracy: 0.7983 - val_loss: 0.8428 - val_accuracy: 0.7339\n",
            "Epoch 87/100\n",
            "782/782 [==============================] - 5s 6ms/step - loss: 0.5903 - accuracy: 0.8016 - val_loss: 0.8551 - val_accuracy: 0.7377\n",
            "Epoch 88/100\n",
            "782/782 [==============================] - 5s 7ms/step - loss: 0.5860 - accuracy: 0.7998 - val_loss: 0.8438 - val_accuracy: 0.7372\n",
            "Epoch 89/100\n",
            "782/782 [==============================] - 5s 6ms/step - loss: 0.5806 - accuracy: 0.8032 - val_loss: 0.8321 - val_accuracy: 0.7366\n",
            "Epoch 90/100\n",
            "782/782 [==============================] - 5s 6ms/step - loss: 0.5745 - accuracy: 0.8069 - val_loss: 0.8250 - val_accuracy: 0.7378\n",
            "Epoch 91/100\n",
            "782/782 [==============================] - 5s 7ms/step - loss: 0.5782 - accuracy: 0.8034 - val_loss: 0.8563 - val_accuracy: 0.7311\n",
            "Epoch 92/100\n",
            "782/782 [==============================] - 5s 6ms/step - loss: 0.5693 - accuracy: 0.8073 - val_loss: 0.8619 - val_accuracy: 0.7347\n",
            "Epoch 93/100\n",
            "782/782 [==============================] - 5s 7ms/step - loss: 0.5646 - accuracy: 0.8090 - val_loss: 0.8416 - val_accuracy: 0.7379\n",
            "Epoch 94/100\n",
            "782/782 [==============================] - 5s 6ms/step - loss: 0.5590 - accuracy: 0.8095 - val_loss: 0.8510 - val_accuracy: 0.7387\n",
            "Epoch 95/100\n",
            "782/782 [==============================] - 5s 6ms/step - loss: 0.5523 - accuracy: 0.8141 - val_loss: 0.8573 - val_accuracy: 0.7399\n",
            "Epoch 96/100\n",
            "782/782 [==============================] - 5s 7ms/step - loss: 0.5549 - accuracy: 0.8097 - val_loss: 0.8517 - val_accuracy: 0.7357\n",
            "Epoch 97/100\n",
            "782/782 [==============================] - 5s 6ms/step - loss: 0.5439 - accuracy: 0.8167 - val_loss: 0.8590 - val_accuracy: 0.7422\n",
            "Epoch 98/100\n",
            "782/782 [==============================] - 6s 7ms/step - loss: 0.5410 - accuracy: 0.8166 - val_loss: 0.8506 - val_accuracy: 0.7386\n",
            "Epoch 99/100\n",
            "782/782 [==============================] - 5s 6ms/step - loss: 0.5392 - accuracy: 0.8161 - val_loss: 0.8584 - val_accuracy: 0.7368\n",
            "Epoch 100/100\n",
            "782/782 [==============================] - 5s 7ms/step - loss: 0.5316 - accuracy: 0.8187 - val_loss: 0.8609 - val_accuracy: 0.7381\n"
          ]
        }
      ]
    },
    {
      "cell_type": "code",
      "source": [
        "best_model = models.load_model('best_model.h5')"
      ],
      "metadata": {
        "id": "RjRH5i5Zi4_e"
      },
      "execution_count": null,
      "outputs": []
    },
    {
      "cell_type": "code",
      "source": [
        "test_loss, test_acc = best_model.evaluate(test_images, test_labels)\n",
        "print(\"Test accuracy:\", test_acc)"
      ],
      "metadata": {
        "colab": {
          "base_uri": "https://localhost:8080/"
        },
        "id": "QmZyI9tNi8sc",
        "outputId": "8db9573f-7300-4af1-d91d-5404cdff7e57"
      },
      "execution_count": null,
      "outputs": [
        {
          "output_type": "stream",
          "name": "stdout",
          "text": [
            "313/313 [==============================] - 1s 3ms/step - loss: 0.8590 - accuracy: 0.7422\n",
            "Test accuracy: 0.7422000169754028\n"
          ]
        }
      ]
    },
    {
      "cell_type": "code",
      "source": [
        "train_acc = history.history['accuracy']\n",
        "val_acc = history.history['val_accuracy']\n",
        "\n",
        "print(\"Training accuracy:\", train_acc[-1])\n",
        "print(\"Validation accuracy:\", val_acc[-1])\n",
        "\n",
        "# Evaluate test accuracy\n",
        "test_loss, test_acc = best_model.evaluate(test_images, test_labels)\n",
        "print(\"Test accuracy:\", test_acc)\n",
        "\n",
        "# Compute confusion matrix\n",
        "pred_labels = best_model.predict(test_images)\n",
        "pred_classes = np.argmax(pred_labels, axis=-1)\n",
        "true_classes = np.argmax(test_labels, axis=-1)\n",
        "cm = confusion_matrix(true_classes, pred_classes)\n",
        "\n",
        "print(\"Confusion matrix:\")\n",
        "print(cm)"
      ],
      "metadata": {
        "colab": {
          "base_uri": "https://localhost:8080/"
        },
        "id": "ekDukZGii-mq",
        "outputId": "1171d6ad-20c6-482c-f6a0-62b1721deba0"
      },
      "execution_count": null,
      "outputs": [
        {
          "output_type": "stream",
          "name": "stdout",
          "text": [
            "Training accuracy: 0.8187199831008911\n",
            "Validation accuracy: 0.738099992275238\n",
            "313/313 [==============================] - 1s 3ms/step - loss: 0.8590 - accuracy: 0.7422\n",
            "Test accuracy: 0.7422000169754028\n",
            "313/313 [==============================] - 1s 2ms/step\n",
            "Confusion matrix:\n",
            "[[774  34  45  19  13   4  11   7  62  31]\n",
            " [ 14 846   4  13   2   2  13   4  19  83]\n",
            " [ 73   7 618  65  68  61  59  37   3   9]\n",
            " [ 14  12  54 580  44 159  66  42  13  16]\n",
            " [ 18   5  68  49 666  25  68  83  12   6]\n",
            " [ 14   6  43 191  42 623  18  52   4   7]\n",
            " [  3   4  33  61  22  14 854   3   3   3]\n",
            " [ 17   5  24  25  49  50   9 809   2  10]\n",
            " [ 55  28  14  14   3   5   5   3 846  27]\n",
            " [ 24  91   6  16   6   4   5  17  25 806]]\n"
          ]
        }
      ]
    },
    {
      "cell_type": "code",
      "source": [
        "\n",
        "train_loss = history.history['loss']\n",
        "train_acc = history.history['accuracy']\n",
        "val_loss = history.history['val_loss']\n",
        "val_acc = history.history['val_accuracy']\n",
        "\n",
        "# Plot loss\n",
        "plt.plot(train_loss, label='Training Loss')\n",
        "plt.plot(val_loss, label='Validation Loss')\n",
        "plt.title('Training and Validation Loss')\n",
        "plt.xlabel('Epoch')\n",
        "plt.ylabel('Loss')\n",
        "plt.legend()\n",
        "plt.show()\n",
        "\n",
        "# Plot accuracy\n",
        "plt.plot(train_acc, label='Training Accuracy')\n",
        "plt.plot(val_acc, label='Validation Accuracy')\n",
        "plt.title('Training and Validation Accuracy')\n",
        "plt.xlabel('Epoch')\n",
        "plt.ylabel('Accuracy')\n",
        "plt.legend()\n",
        "plt.show()"
      ],
      "metadata": {
        "colab": {
          "base_uri": "https://localhost:8080/",
          "height": 573
        },
        "id": "cfIdbUL0jNot",
        "outputId": "28214092-83e2-4e06-9f7f-3e64eec8bc8a"
      },
      "execution_count": null,
      "outputs": [
        {
          "output_type": "display_data",
          "data": {
            "text/plain": [
              "<Figure size 432x288 with 1 Axes>"
            ],
            "image/png": "[encoded data removed]"
          },
          "metadata": {
            "needs_background": "light"
          }
        },
        {
          "output_type": "display_data",
          "data": {
            "text/plain": [
              "<Figure size 432x288 with 1 Axes>"
            ],
            "image/png": "[encoded data removed]"
          },
          "metadata": {
            "needs_background": "light"
          }
        }
      ]
    },
    {
      "cell_type": "code",
      "source": [],
      "metadata": {
        "id": "OldyWNTTjX0g"
      },
      "execution_count": null,
      "outputs": []
    }
  ]
}